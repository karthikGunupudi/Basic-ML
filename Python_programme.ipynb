{
  "nbformat": 4,
  "nbformat_minor": 0,
  "metadata": {
    "colab": {
      "name": "Python_programme.ipynb",
      "provenance": [],
      "authorship_tag": "ABX9TyNmq7iuwW+NXLx5s3ugcRwa",
      "include_colab_link": true
    },
    "kernelspec": {
      "name": "python3",
      "display_name": "Python 3"
    },
    "language_info": {
      "name": "python"
    }
  },
  "cells": [
    {
      "cell_type": "markdown",
      "metadata": {
        "id": "view-in-github",
        "colab_type": "text"
      },
      "source": [
        "<a href=\"https://colab.research.google.com/github/karthikGunupudi/Basic-ML/blob/main/Python_programme.ipynb\" target=\"_parent\"><img src=\"https://colab.research.google.com/assets/colab-badge.svg\" alt=\"Open In Colab\"/></a>"
      ]
    },
    {
      "cell_type": "markdown",
      "metadata": {
        "id": "-lYYay6mITud"
      },
      "source": [
        "Programme to add given two numbers\n",
        "\n",
        "\n"
      ]
    },
    {
      "cell_type": "code",
      "metadata": {
        "colab": {
          "base_uri": "https://localhost:8080/"
        },
        "id": "DpuAIxgPId1m",
        "outputId": "ab7b1f7e-e395-4f4b-a3a0-139c9166cfd8"
      },
      "source": [
        "a=int(input())\n",
        "b=int(input())\n",
        "c=a+b\n",
        "print(c)"
      ],
      "execution_count": 2,
      "outputs": [
        {
          "output_type": "stream",
          "text": [
            "4\n",
            "5\n",
            "9\n"
          ],
          "name": "stdout"
        }
      ]
    },
    {
      "cell_type": "markdown",
      "metadata": {
        "id": "HgznTfj_IzSa"
      },
      "source": [
        "Programme to determine whether the given number is EVEN or ODD\n",
        "\n",
        "\n"
      ]
    },
    {
      "cell_type": "code",
      "metadata": {
        "colab": {
          "base_uri": "https://localhost:8080/"
        },
        "id": "ljSCS6DYJIxq",
        "outputId": "d2b553a0-88bc-48bb-b320-c024b3bcdae5"
      },
      "source": [
        "n=int(input())\n",
        "if (n%2==0):\n",
        "    print(\"EVEN\")\n",
        "else:\n",
        "    print(\"ODD\")"
      ],
      "execution_count": 3,
      "outputs": [
        {
          "output_type": "stream",
          "text": [
            "7\n",
            "ODD\n"
          ],
          "name": "stdout"
        }
      ]
    },
    {
      "cell_type": "markdown",
      "metadata": {
        "id": "txB8SiB7JfX4"
      },
      "source": [
        "Programme to determine the greatest of three numbers\n",
        "\n",
        "\n"
      ]
    },
    {
      "cell_type": "code",
      "metadata": {
        "colab": {
          "base_uri": "https://localhost:8080/"
        },
        "id": "hLxihd58JuWu",
        "outputId": "d4d9f699-bd13-47d9-b718-09effdfad398"
      },
      "source": [
        "a=int(input())\n",
        "b=int(input())\n",
        "c=int(input())\n",
        "if a>=b and a>=c:\n",
        "    print(a)\n",
        "elif b>=c:\n",
        "    print(b)\n",
        "else:\n",
        "    print(c)"
      ],
      "execution_count": 5,
      "outputs": [
        {
          "output_type": "stream",
          "text": [
            "16\n",
            "99\n",
            "87\n",
            "99\n"
          ],
          "name": "stdout"
        }
      ]
    }
  ]
}